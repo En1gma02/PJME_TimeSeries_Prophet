{
  "metadata": {
    "kernelspec": {
      "language": "python",
      "display_name": "Python 3",
      "name": "python3"
    },
    "language_info": {
      "pygments_lexer": "ipython3",
      "nbconvert_exporter": "python",
      "version": "3.6.4",
      "file_extension": ".py",
      "codemirror_mode": {
        "name": "ipython",
        "version": 3
      },
      "name": "python",
      "mimetype": "text/x-python"
    },
    "colab": {
      "provenance": []
    }
  },
  "nbformat_minor": 0,
  "nbformat": 4,
  "cells": [
    {
      "cell_type": "code",
      "source": [
        "import numpy as np\n",
        "import pandas as pd\n",
        "import seaborn as sns\n",
        "import matplotlib.pyplot as plt\n",
        "from fbprophet import Prophet\n",
        "from sklearn.metrics import mean_squared_error, mean_absolute_error\n",
        "\n",
        "import warnings\n",
        "warnings.filterwarnings(\"ignore\")\n",
        "\n",
        "plt.style.use('ggplot')\n",
        "plt.style.use('fivethirtyeight')\n",
        "\n",
        "def mean_absolute_percentage_error(y_true, y_pred):\n",
        "    \"\"\"Calculates MAPE given y_true and y_pred\"\"\"\n",
        "    y_true, y_pred = np.array(y_true), np.array(y_pred)\n",
        "    return np.mean(np.abs((y_true - y_pred) / y_true)) * 100"
      ],
      "metadata": {
        "execution": {
          "iopub.status.busy": "2022-11-24T19:49:40.181659Z",
          "iopub.execute_input": "2022-11-24T19:49:40.18201Z",
          "iopub.status.idle": "2022-11-24T19:49:40.188339Z",
          "shell.execute_reply.started": "2022-11-24T19:49:40.181953Z",
          "shell.execute_reply": "2022-11-24T19:49:40.18758Z"
        },
        "trusted": true,
        "id": "OJgLK3OgMrl4",
        "outputId": "33b37e00-f5f0-498e-af57-c1f58ed8bd04",
        "colab": {
          "base_uri": "https://localhost:8080/",
          "height": 383
        }
      },
      "execution_count": null,
      "outputs": [
        {
          "output_type": "error",
          "ename": "ModuleNotFoundError",
          "evalue": "No module named 'fbprophet'",
          "traceback": [
            "\u001b[0;31m---------------------------------------------------------------------------\u001b[0m",
            "\u001b[0;31mModuleNotFoundError\u001b[0m                       Traceback (most recent call last)",
            "\u001b[0;32m<ipython-input-1-eee906d21d94>\u001b[0m in \u001b[0;36m<cell line: 5>\u001b[0;34m()\u001b[0m\n\u001b[1;32m      3\u001b[0m \u001b[0;32mimport\u001b[0m \u001b[0mseaborn\u001b[0m \u001b[0;32mas\u001b[0m \u001b[0msns\u001b[0m\u001b[0;34m\u001b[0m\u001b[0;34m\u001b[0m\u001b[0m\n\u001b[1;32m      4\u001b[0m \u001b[0;32mimport\u001b[0m \u001b[0mmatplotlib\u001b[0m\u001b[0;34m.\u001b[0m\u001b[0mpyplot\u001b[0m \u001b[0;32mas\u001b[0m \u001b[0mplt\u001b[0m\u001b[0;34m\u001b[0m\u001b[0;34m\u001b[0m\u001b[0m\n\u001b[0;32m----> 5\u001b[0;31m \u001b[0;32mfrom\u001b[0m \u001b[0mfbprophet\u001b[0m \u001b[0;32mimport\u001b[0m \u001b[0mProphet\u001b[0m\u001b[0;34m\u001b[0m\u001b[0;34m\u001b[0m\u001b[0m\n\u001b[0m\u001b[1;32m      6\u001b[0m \u001b[0;32mfrom\u001b[0m \u001b[0msklearn\u001b[0m\u001b[0;34m.\u001b[0m\u001b[0mmetrics\u001b[0m \u001b[0;32mimport\u001b[0m \u001b[0mmean_squared_error\u001b[0m\u001b[0;34m,\u001b[0m \u001b[0mmean_absolute_error\u001b[0m\u001b[0;34m\u001b[0m\u001b[0;34m\u001b[0m\u001b[0m\n\u001b[1;32m      7\u001b[0m \u001b[0;34m\u001b[0m\u001b[0m\n",
            "\u001b[0;31mModuleNotFoundError\u001b[0m: No module named 'fbprophet'",
            "",
            "\u001b[0;31m---------------------------------------------------------------------------\u001b[0;32m\nNOTE: If your import is failing due to a missing package, you can\nmanually install dependencies using either !pip or !apt.\n\nTo view examples of installing some common dependencies, click the\n\"Open Examples\" button below.\n\u001b[0;31m---------------------------------------------------------------------------\u001b[0m\n"
          ],
          "errorDetails": {
            "actions": [
              {
                "action": "open_url",
                "actionText": "Open Examples",
                "url": "/notebooks/snippets/importing_libraries.ipynb"
              }
            ]
          }
        }
      ]
    },
    {
      "cell_type": "code",
      "source": [
        "pjme = pd.read_csv('E:/Project 180/Data Science/PJME_hourly_Prophet/PJME_hourly.csv',\n",
        "                   index_col=[0],\n",
        "                  parse_dates=[0])\n",
        "pjme.head()"
      ],
      "metadata": {
        "execution": {
          "iopub.status.busy": "2022-11-24T19:23:30.658642Z",
          "iopub.execute_input": "2022-11-24T19:23:30.658947Z",
          "iopub.status.idle": "2022-11-24T19:23:30.903611Z",
          "shell.execute_reply.started": "2022-11-24T19:23:30.658875Z",
          "shell.execute_reply": "2022-11-24T19:23:30.902869Z"
        },
        "trusted": true,
        "id": "wLUUgCXZMrl5"
      },
      "execution_count": null,
      "outputs": []
    },
    {
      "cell_type": "code",
      "source": [
        "color_pal = sns.color_palette()\n",
        "pjme.plot(style='.',\n",
        "          figsize=(10, 5),\n",
        "          ms=1,\n",
        "          color=color_pal[0],\n",
        "          title='PJME MW')\n",
        "plt.show()"
      ],
      "metadata": {
        "execution": {
          "iopub.status.busy": "2022-11-24T19:24:35.198007Z",
          "iopub.execute_input": "2022-11-24T19:24:35.198314Z",
          "iopub.status.idle": "2022-11-24T19:24:35.843899Z",
          "shell.execute_reply.started": "2022-11-24T19:24:35.198258Z",
          "shell.execute_reply": "2022-11-24T19:24:35.84311Z"
        },
        "trusted": true,
        "id": "wQD8IIDAMrl6"
      },
      "execution_count": null,
      "outputs": []
    },
    {
      "cell_type": "code",
      "source": [
        "split_date = '1-Jan-2015'\n",
        "pjme_train = pjme.loc[pjme.index <= split_date].copy()\n",
        "pjme_test = pjme.loc[pjme.index > split_date].copy()\n",
        "\n",
        "# Plot train and test so you can see where we have split\n",
        "pjme_test \\\n",
        "    .rename(columns={'PJME_MW': 'TEST SET'}) \\\n",
        "    .join(pjme_train.rename(columns={'PJME_MW': 'TRAINING SET'}),\n",
        "          how='outer') \\\n",
        "    .plot(figsize=(10, 5), title='PJM East', style='.', ms=1)\n",
        "plt.show()"
      ],
      "metadata": {
        "execution": {
          "iopub.status.busy": "2022-11-24T19:30:43.299959Z",
          "iopub.execute_input": "2022-11-24T19:30:43.300248Z",
          "iopub.status.idle": "2022-11-24T19:30:44.419536Z",
          "shell.execute_reply.started": "2022-11-24T19:30:43.300197Z",
          "shell.execute_reply": "2022-11-24T19:30:44.418881Z"
        },
        "trusted": true,
        "id": "6sE12sp-Mrl9"
      },
      "execution_count": null,
      "outputs": []
    },
    {
      "cell_type": "code",
      "source": [
        "# Format data for prophet model using ds and y\n",
        "pjme_train_prophet = pjme_train.reset_index() \\\n",
        "    .rename(columns={'Datetime':'ds',\n",
        "                     'PJME_MW':'y'})"
      ],
      "metadata": {
        "execution": {
          "iopub.status.busy": "2022-11-24T19:31:47.218964Z",
          "iopub.execute_input": "2022-11-24T19:31:47.219272Z",
          "iopub.status.idle": "2022-11-24T19:31:47.22828Z",
          "shell.execute_reply.started": "2022-11-24T19:31:47.219217Z",
          "shell.execute_reply": "2022-11-24T19:31:47.227266Z"
        },
        "trusted": true,
        "id": "bujmKTUEMrl9"
      },
      "execution_count": null,
      "outputs": []
    },
    {
      "cell_type": "code",
      "source": [
        "%%time\n",
        "model = Prophet()\n",
        "model.fit(pjme_train_prophet)"
      ],
      "metadata": {
        "execution": {
          "iopub.status.busy": "2022-11-24T19:33:10.811045Z",
          "iopub.execute_input": "2022-11-24T19:33:10.811338Z",
          "iopub.status.idle": "2022-11-24T19:37:05.231847Z",
          "shell.execute_reply.started": "2022-11-24T19:33:10.811286Z",
          "shell.execute_reply": "2022-11-24T19:37:05.231018Z"
        },
        "trusted": true,
        "id": "ICwitklUMrl-"
      },
      "execution_count": null,
      "outputs": []
    },
    {
      "cell_type": "code",
      "source": [
        "# Predict on test set with model\n",
        "pjme_test_prophet = pjme_test.reset_index() \\\n",
        "    .rename(columns={'Datetime':'ds',\n",
        "                     'PJME_MW':'y'})\n",
        "\n",
        "pjme_test_fcst = model.predict(pjme_test_prophet)"
      ],
      "metadata": {
        "execution": {
          "iopub.status.busy": "2022-11-24T19:38:16.834958Z",
          "iopub.execute_input": "2022-11-24T19:38:16.835253Z",
          "iopub.status.idle": "2022-11-24T19:39:18.625129Z",
          "shell.execute_reply.started": "2022-11-24T19:38:16.835201Z",
          "shell.execute_reply": "2022-11-24T19:39:18.624327Z"
        },
        "trusted": true,
        "id": "LAkhQGIpMrl-"
      },
      "execution_count": null,
      "outputs": []
    },
    {
      "cell_type": "code",
      "source": [
        "pjme_test_fcst.head()"
      ],
      "metadata": {
        "execution": {
          "iopub.status.busy": "2022-11-24T19:39:26.342319Z",
          "iopub.execute_input": "2022-11-24T19:39:26.34261Z",
          "iopub.status.idle": "2022-11-24T19:39:26.394352Z",
          "shell.execute_reply.started": "2022-11-24T19:39:26.342558Z",
          "shell.execute_reply": "2022-11-24T19:39:26.393585Z"
        },
        "trusted": true,
        "id": "b49kya2mMrl-"
      },
      "execution_count": null,
      "outputs": []
    },
    {
      "cell_type": "code",
      "source": [
        "fig, ax = plt.subplots(figsize=(10, 5))\n",
        "fig = model.plot(pjme_test_fcst, ax=ax)\n",
        "ax.set_title('Prophet Forecast')\n",
        "plt.show()"
      ],
      "metadata": {
        "execution": {
          "iopub.status.busy": "2022-11-24T19:41:37.946815Z",
          "iopub.execute_input": "2022-11-24T19:41:37.94715Z",
          "iopub.status.idle": "2022-11-24T19:41:38.723594Z",
          "shell.execute_reply.started": "2022-11-24T19:41:37.94709Z",
          "shell.execute_reply": "2022-11-24T19:41:38.722873Z"
        },
        "trusted": true,
        "id": "HDtbwmVyMrl_"
      },
      "execution_count": null,
      "outputs": []
    },
    {
      "cell_type": "code",
      "source": [
        "fig = model.plot_components(pjme_test_fcst)\n",
        "plt.show()"
      ],
      "metadata": {
        "execution": {
          "iopub.status.busy": "2022-11-24T19:43:24.218109Z",
          "iopub.execute_input": "2022-11-24T19:43:24.218419Z",
          "iopub.status.idle": "2022-11-24T19:43:26.294728Z",
          "shell.execute_reply.started": "2022-11-24T19:43:24.218365Z",
          "shell.execute_reply": "2022-11-24T19:43:26.294025Z"
        },
        "trusted": true,
        "id": "OTK7ah1yMrl_"
      },
      "execution_count": null,
      "outputs": []
    },
    {
      "cell_type": "code",
      "source": [
        "# Plot the forecast with the actuals\n",
        "f, ax = plt.subplots(figsize=(15, 5))\n",
        "ax.scatter(pjme_test.index, pjme_test['PJME_MW'], color='r')\n",
        "fig = model.plot(pjme_test_fcst, ax=ax)"
      ],
      "metadata": {
        "execution": {
          "iopub.status.busy": "2022-11-24T19:45:38.983479Z",
          "iopub.execute_input": "2022-11-24T19:45:38.983792Z",
          "iopub.status.idle": "2022-11-24T19:45:40.463742Z",
          "shell.execute_reply.started": "2022-11-24T19:45:38.983735Z",
          "shell.execute_reply": "2022-11-24T19:45:40.462982Z"
        },
        "trusted": true,
        "id": "ZWhyLx52MrmA"
      },
      "execution_count": null,
      "outputs": []
    },
    {
      "cell_type": "code",
      "source": [
        "fig, ax = plt.subplots(figsize=(10, 5))\n",
        "ax.scatter(pjme_test.index, pjme_test['PJME_MW'], color='r')\n",
        "fig = model.plot(pjme_test_fcst, ax=ax)\n",
        "ax.set_xbound(lower='01-01-2015',\n",
        "              upper='02-01-2015')\n",
        "ax.set_ylim(0, 60000)\n",
        "plot = plt.suptitle('January 2015 Forecast vs Actuals')"
      ],
      "metadata": {
        "execution": {
          "iopub.status.busy": "2022-11-24T19:46:47.063519Z",
          "iopub.execute_input": "2022-11-24T19:46:47.063811Z",
          "iopub.status.idle": "2022-11-24T19:46:48.112548Z",
          "shell.execute_reply.started": "2022-11-24T19:46:47.063759Z",
          "shell.execute_reply": "2022-11-24T19:46:48.111855Z"
        },
        "trusted": true,
        "id": "pMGMkr7ZMrmA"
      },
      "execution_count": null,
      "outputs": []
    },
    {
      "cell_type": "code",
      "source": [
        "# Plot the forecast with the actuals\n",
        "f, ax = plt.subplots(figsize=(15, 5))\n",
        "ax.scatter(pjme_test.index, pjme_test['PJME_MW'], color='r')\n",
        "fig = model.plot(pjme_test_fcst, ax=ax)\n",
        "ax.set_xbound(lower='01-01-2015', upper='01-08-2015')\n",
        "ax.set_ylim(0, 60000)\n",
        "ax.set_title('First Week of January Forecast vs Actuals')\n",
        "plt.show()"
      ],
      "metadata": {
        "execution": {
          "iopub.status.busy": "2022-11-24T19:47:44.766579Z",
          "iopub.execute_input": "2022-11-24T19:47:44.766868Z",
          "iopub.status.idle": "2022-11-24T19:47:45.786693Z",
          "shell.execute_reply.started": "2022-11-24T19:47:44.766815Z",
          "shell.execute_reply": "2022-11-24T19:47:45.785986Z"
        },
        "trusted": true,
        "id": "1z2IBDBOMrmB"
      },
      "execution_count": null,
      "outputs": []
    },
    {
      "cell_type": "code",
      "source": [
        "np.sqrt(mean_squared_error(y_true=pjme_test['PJME_MW'],\n",
        "                   y_pred=pjme_test_fcst['yhat']))"
      ],
      "metadata": {
        "execution": {
          "iopub.status.busy": "2022-11-24T19:48:43.52761Z",
          "iopub.execute_input": "2022-11-24T19:48:43.527949Z",
          "iopub.status.idle": "2022-11-24T19:48:43.534744Z",
          "shell.execute_reply.started": "2022-11-24T19:48:43.527871Z",
          "shell.execute_reply": "2022-11-24T19:48:43.533975Z"
        },
        "trusted": true,
        "id": "E9D_IudRMrmC"
      },
      "execution_count": null,
      "outputs": []
    },
    {
      "cell_type": "code",
      "source": [
        "mean_absolute_error(y_true=pjme_test['PJME_MW'],\n",
        "                   y_pred=pjme_test_fcst['yhat'])"
      ],
      "metadata": {
        "execution": {
          "iopub.status.busy": "2022-11-24T19:49:18.42109Z",
          "iopub.execute_input": "2022-11-24T19:49:18.42138Z",
          "iopub.status.idle": "2022-11-24T19:49:18.429135Z",
          "shell.execute_reply.started": "2022-11-24T19:49:18.421325Z",
          "shell.execute_reply": "2022-11-24T19:49:18.42833Z"
        },
        "trusted": true,
        "id": "bjxxCs0gMrmD"
      },
      "execution_count": null,
      "outputs": []
    },
    {
      "cell_type": "code",
      "source": [
        "mean_absolute_percentage_error(y_true=pjme_test['PJME_MW'],\n",
        "                   y_pred=pjme_test_fcst['yhat'])"
      ],
      "metadata": {
        "execution": {
          "iopub.status.busy": "2022-11-24T19:49:46.949506Z",
          "iopub.execute_input": "2022-11-24T19:49:46.949793Z",
          "iopub.status.idle": "2022-11-24T19:49:46.957396Z",
          "shell.execute_reply.started": "2022-11-24T19:49:46.949739Z",
          "shell.execute_reply": "2022-11-24T19:49:46.956373Z"
        },
        "trusted": true,
        "id": "4hD7Wu5nMrmE"
      },
      "execution_count": null,
      "outputs": []
    },
    {
      "cell_type": "code",
      "source": [
        "from pandas.tseries.holiday import USFederalHolidayCalendar as calendar\n",
        "\n",
        "cal = calendar()\n",
        "\n",
        "\n",
        "holidays = cal.holidays(start=pjme.index.min(),\n",
        "                        end=pjme.index.max(),\n",
        "                        return_name=True)\n",
        "holiday_df = pd.DataFrame(data=holidays,\n",
        "                          columns=['holiday'])\n",
        "holiday_df = holiday_df.reset_index().rename(columns={'index':'ds'})"
      ],
      "metadata": {
        "execution": {
          "iopub.status.busy": "2022-11-24T19:55:20.6696Z",
          "iopub.execute_input": "2022-11-24T19:55:20.669886Z",
          "iopub.status.idle": "2022-11-24T19:55:20.72277Z",
          "shell.execute_reply.started": "2022-11-24T19:55:20.669832Z",
          "shell.execute_reply": "2022-11-24T19:55:20.721958Z"
        },
        "trusted": true,
        "id": "RjkpiWh_MrmF"
      },
      "execution_count": null,
      "outputs": []
    },
    {
      "cell_type": "code",
      "source": [
        "%%time\n",
        "model_with_holidays = Prophet(holidays=holiday_df)\n",
        "model_with_holidays.fit(pjme_train_prophet)"
      ],
      "metadata": {
        "execution": {
          "iopub.status.busy": "2022-11-24T19:56:06.138966Z",
          "iopub.execute_input": "2022-11-24T19:56:06.139261Z",
          "iopub.status.idle": "2022-11-24T19:59:07.214247Z",
          "shell.execute_reply.started": "2022-11-24T19:56:06.139206Z",
          "shell.execute_reply": "2022-11-24T19:59:07.21347Z"
        },
        "trusted": true,
        "id": "ONU28Qh6MrmG"
      },
      "execution_count": null,
      "outputs": []
    },
    {
      "cell_type": "code",
      "source": [
        "# Predict on training set with model\n",
        "pjme_test_fcst_with_hols = \\\n",
        "    model_with_holidays.predict(df=pjme_test_prophet)"
      ],
      "metadata": {
        "execution": {
          "iopub.status.busy": "2022-11-24T19:59:25.398777Z",
          "iopub.execute_input": "2022-11-24T19:59:25.399093Z",
          "iopub.status.idle": "2022-11-24T20:01:27.28786Z",
          "shell.execute_reply.started": "2022-11-24T19:59:25.399037Z",
          "shell.execute_reply": "2022-11-24T20:01:27.287033Z"
        },
        "trusted": true,
        "id": "wqrmnc2DMrmG"
      },
      "execution_count": null,
      "outputs": []
    },
    {
      "cell_type": "code",
      "source": [
        "fig = model_with_holidays.plot_components(\n",
        "    pjme_test_fcst_with_hols)\n",
        "plt.show()"
      ],
      "metadata": {
        "execution": {
          "iopub.status.busy": "2022-11-24T20:02:53.087788Z",
          "iopub.execute_input": "2022-11-24T20:02:53.088097Z",
          "iopub.status.idle": "2022-11-24T20:02:57.674659Z",
          "shell.execute_reply.started": "2022-11-24T20:02:53.088039Z",
          "shell.execute_reply": "2022-11-24T20:02:57.673916Z"
        },
        "trusted": true,
        "id": "2Ot8afGGMrmG"
      },
      "execution_count": null,
      "outputs": []
    },
    {
      "cell_type": "code",
      "source": [
        "fig, ax = plt.subplots(figsize=(10, 5))\n",
        "ax.scatter(pjme_test.index, pjme_test['PJME_MW'], color='r')\n",
        "fig = model.plot(pjme_test_fcst_with_hols, ax=ax)\n",
        "ax.set_xbound(lower='07-01-2015',\n",
        "              upper='07-07-2015')\n",
        "ax.set_ylim(0, 60000)\n",
        "plot = plt.suptitle('July 4 Predictions vs Actual')"
      ],
      "metadata": {
        "execution": {
          "iopub.status.busy": "2022-11-24T20:07:40.720651Z",
          "iopub.execute_input": "2022-11-24T20:07:40.721Z",
          "iopub.status.idle": "2022-11-24T20:07:41.791535Z",
          "shell.execute_reply.started": "2022-11-24T20:07:40.720935Z",
          "shell.execute_reply": "2022-11-24T20:07:41.790791Z"
        },
        "trusted": true,
        "id": "uMPFPBh8MrmH"
      },
      "execution_count": null,
      "outputs": []
    },
    {
      "cell_type": "code",
      "source": [
        "np.sqrt(mean_squared_error(y_true=pjme_test['PJME_MW'],\n",
        "                   y_pred=pjme_test_fcst_with_hols['yhat']))"
      ],
      "metadata": {
        "execution": {
          "iopub.status.busy": "2022-11-24T20:08:56.45328Z",
          "iopub.execute_input": "2022-11-24T20:08:56.45357Z",
          "iopub.status.idle": "2022-11-24T20:08:56.46117Z",
          "shell.execute_reply.started": "2022-11-24T20:08:56.453518Z",
          "shell.execute_reply": "2022-11-24T20:08:56.459907Z"
        },
        "trusted": true,
        "id": "Efliic3_MrmH"
      },
      "execution_count": null,
      "outputs": []
    },
    {
      "cell_type": "code",
      "source": [
        "mean_absolute_error(y_true=pjme_test['PJME_MW'],\n",
        "                   y_pred=pjme_test_fcst_with_hols['yhat'])"
      ],
      "metadata": {
        "execution": {
          "iopub.status.busy": "2022-11-24T20:08:56.846689Z",
          "iopub.execute_input": "2022-11-24T20:08:56.847009Z",
          "iopub.status.idle": "2022-11-24T20:08:56.853515Z",
          "shell.execute_reply.started": "2022-11-24T20:08:56.84695Z",
          "shell.execute_reply": "2022-11-24T20:08:56.852696Z"
        },
        "trusted": true,
        "id": "S5SMQn8LMrmH"
      },
      "execution_count": null,
      "outputs": []
    },
    {
      "cell_type": "code",
      "source": [
        "mean_absolute_percentage_error(y_true=pjme_test['PJME_MW'],\n",
        "                   y_pred=pjme_test_fcst_with_hols['yhat'])"
      ],
      "metadata": {
        "execution": {
          "iopub.status.busy": "2022-11-24T20:08:57.407846Z",
          "iopub.execute_input": "2022-11-24T20:08:57.408162Z",
          "iopub.status.idle": "2022-11-24T20:08:57.415522Z",
          "shell.execute_reply.started": "2022-11-24T20:08:57.408106Z",
          "shell.execute_reply": "2022-11-24T20:08:57.414606Z"
        },
        "trusted": true,
        "id": "UR4FYmjvMrmH"
      },
      "execution_count": null,
      "outputs": []
    },
    {
      "cell_type": "code",
      "source": [
        "future = model.make_future_dataframe(periods=365*24, freq='h', include_history=False)\n",
        "forecast = model_with_holidays.predict(future)"
      ],
      "metadata": {
        "execution": {
          "iopub.status.busy": "2022-11-24T20:13:19.187285Z",
          "iopub.execute_input": "2022-11-24T20:13:19.187587Z",
          "iopub.status.idle": "2022-11-24T20:13:56.03521Z",
          "shell.execute_reply.started": "2022-11-24T20:13:19.187533Z",
          "shell.execute_reply": "2022-11-24T20:13:56.034339Z"
        },
        "trusted": true,
        "id": "ghMXFKMsMrmH"
      },
      "execution_count": null,
      "outputs": []
    },
    {
      "cell_type": "code",
      "source": [
        "forecast[['ds','yhat']].head()"
      ],
      "metadata": {
        "execution": {
          "iopub.status.busy": "2022-11-24T20:46:31.789823Z",
          "iopub.execute_input": "2022-11-24T20:46:31.790134Z",
          "iopub.status.idle": "2022-11-24T20:46:31.804664Z",
          "shell.execute_reply.started": "2022-11-24T20:46:31.790074Z",
          "shell.execute_reply": "2022-11-24T20:46:31.8039Z"
        },
        "trusted": true,
        "id": "FvDMwg05MrmI"
      },
      "execution_count": null,
      "outputs": []
    }
  ]
}